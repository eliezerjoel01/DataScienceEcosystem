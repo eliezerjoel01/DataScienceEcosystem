{
 "cells": [
  {
   "cell_type": "markdown",
   "id": "a950c67a-bfdb-425a-ac0c-1a4b58f6604c",
   "metadata": {},
   "source": [
    "# Data Science Tools and Ecosystem"
   ]
  },
  {
   "cell_type": "markdown",
   "id": "03484217-ea08-48c4-b69a-780074794b57",
   "metadata": {},
   "source": [
    "In this notebook, Data Science Tools and Ecosystem are summarized."
   ]
  },
  {
   "cell_type": "markdown",
   "id": "486775cc-beb1-4f9b-ae06-64b9d6f236e1",
   "metadata": {},
   "source": [
    "Some of the popular languages that Data Scientists use are:"
   ]
  },
  {
   "cell_type": "markdown",
   "id": "65108651-ea5e-4f96-8c26-2eece33d76c4",
   "metadata": {},
   "source": [
    "1. Python\n",
    "2. R\n",
    "3. SQL\n",
    "4. Java"
   ]
  },
  {
   "cell_type": "markdown",
   "id": "03c2e876-65c0-4dbc-afe2-6a77a87c1149",
   "metadata": {},
   "source": [
    "Some of the commonly used libraries used by Data Scientists include:"
   ]
  },
  {
   "cell_type": "markdown",
   "id": "0545bf60-dc77-4af8-a3aa-681d7cd3e0d3",
   "metadata": {},
   "source": [
    "1. Pandas\n",
    "2. NumPy\n",
    "3. TensorFlow\n",
    "4. Matplotlib"
   ]
  },
  {
   "cell_type": "markdown",
   "id": "abb245cd-2aa2-4026-90a1-eca9199993d4",
   "metadata": {},
   "source": [
    "| Data Science Tools |\n",
    "|------------------|\n",
    "| Jupyter Notebook |\n",
    "| Apache Spark     |\n",
    "| RStudio          |"
   ]
  },
  {
   "cell_type": "markdown",
   "id": "0e40c3c0-67e1-4a58-9e37-a8c8cb28d149",
   "metadata": {},
   "source": [
    "### Below are a few examples of evaluating arithmetic expressions in Python"
   ]
  },
  {
   "cell_type": "markdown",
   "id": "e19c66ad-5f06-4424-922d-c254abec2686",
   "metadata": {},
   "source": [
    "_This a simple arithmetic expression to mutiply then add integers_"
   ]
  },
  {
   "cell_type": "code",
   "execution_count": 5,
   "id": "d68331ab-6531-477f-b64b-6c4e0a741e2c",
   "metadata": {},
   "outputs": [
    {
     "data": {
      "text/plain": [
       "17"
      ]
     },
     "execution_count": 5,
     "metadata": {},
     "output_type": "execute_result"
    }
   ],
   "source": [
    "(3*4)+5"
   ]
  },
  {
   "cell_type": "markdown",
   "id": "840c8bee-34a8-4a0b-a2fa-3e7cdda5eed3",
   "metadata": {},
   "source": [
    "_This will convert 200 minutes to hours by diving by 60_"
   ]
  },
  {
   "cell_type": "code",
   "execution_count": 6,
   "id": "c088315c-faa0-4437-8923-a049ba48d128",
   "metadata": {},
   "outputs": [
    {
     "data": {
      "text/plain": [
       "3.3333333333333335"
      ]
     },
     "execution_count": 6,
     "metadata": {},
     "output_type": "execute_result"
    }
   ],
   "source": [
    "minutes = 200\n",
    "hours = minutes / 60\n",
    "hours"
   ]
  },
  {
   "cell_type": "markdown",
   "id": "836640ab-12a6-429e-9c6e-9d8d08f7464b",
   "metadata": {},
   "source": [
    "**Objectives**"
   ]
  },
  {
   "cell_type": "markdown",
   "id": "22eba464-fcc8-4525-b573-4392cf52dc57",
   "metadata": {},
   "source": [
    "- List popular languages for Data Science\n",
    "- Share the notebooks using Github\n",
    "- Create a table using Markdowns\n",
    "- What are the commonly used libraries in Data Science"
   ]
  },
  {
   "cell_type": "markdown",
   "id": "38477e38-c73f-4288-a299-e6da98acfdc0",
   "metadata": {},
   "source": [
    "## Author"
   ]
  },
  {
   "cell_type": "markdown",
   "id": "83933483-69be-4bf6-be25-d4ae3ab74078",
   "metadata": {},
   "source": [
    "Eliezer Joel"
   ]
  },
  {
   "cell_type": "code",
   "execution_count": null,
   "id": "9a4a5c46-e029-442b-a40d-dba5472bb451",
   "metadata": {},
   "outputs": [],
   "source": []
  }
 ],
 "metadata": {
  "kernelspec": {
   "display_name": "Python 3 (ipykernel)",
   "language": "python",
   "name": "python3"
  },
  "language_info": {
   "codemirror_mode": {
    "name": "ipython",
    "version": 3
   },
   "file_extension": ".py",
   "mimetype": "text/x-python",
   "name": "python",
   "nbconvert_exporter": "python",
   "pygments_lexer": "ipython3",
   "version": "3.12.8"
  }
 },
 "nbformat": 4,
 "nbformat_minor": 5
}
